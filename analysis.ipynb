{
 "cells": [
  {
   "cell_type": "code",
   "execution_count": 2,
   "metadata": {},
   "outputs": [],
   "source": [
    "# DA-DAN Modulation Analysis Project"
   ]
  },
  {
   "cell_type": "markdown",
   "metadata": {},
   "source": [
    "### Set-Up"
   ]
  },
  {
   "cell_type": "code",
   "execution_count": 14,
   "metadata": {},
   "outputs": [],
   "source": [
    "import navis\n",
    "import fafbseg\n",
    "import flybrains\n",
    "\n",
    "import numpy as np\n",
    "import seaborn as sns\n",
    "import itertools\n",
    "import pandas as pd\n",
    "from tqdm import tqdm\n",
    "from functools import reduce\n",
    "from tabulate import tabulate\n",
    "import pickle\n",
    "\n",
    "import matplotlib.pyplot as plt\n",
    "import matplotlib as mpl\n",
    "from matplotlib.colors import rgb2hex, to_rgb\n",
    "import matplotlib.gridspec as gridspec\n",
    "\n",
    "\n",
    "import scipy\n",
    "import networkx as nx\n",
    "\n",
    "\n",
    "\n",
    "import pyroglancer\n",
    "from pyroglancer.localserver import startdataserver, closedataserver\n",
    "from pyroglancer.flywire import flywireurl2dict, add_flywirelayer, set_flywireviewerstate\n",
    "\n",
    "import navis.interfaces.neuprint as neu\n",
    "from navis.interfaces.neuprint import NeuronCriteria as NC, SynapseCriteria as SC\n",
    "from navis.interfaces.neuprint import fetch_adjacencies, fetch_synapse_connections\n",
    "\n",
    "from pyroglancer.layers import create_nglayer, setlayerproperty\n",
    "from pyroglancer.ngviewer import openviewer, closeviewer,setviewerstate, get_ngscreenshot\n",
    "from pyroglancer.ngspaces import create_ngspace\n",
    "from pyroglancer.createconfig import createconfig\n",
    "\n",
    "\n",
    "import gspread"
   ]
  },
  {
   "cell_type": "code",
   "execution_count": 4,
   "metadata": {},
   "outputs": [],
   "source": [
    "### Code by Sri\n",
    "import warnings\n",
    "from pandas.errors import SettingWithCopyWarning\n",
    "warnings.simplefilter(action=\"ignore\", category=SettingWithCopyWarning)"
   ]
  },
  {
   "cell_type": "code",
   "execution_count": 5,
   "metadata": {},
   "outputs": [],
   "source": [
    "### fixes PDF export\n",
    "mpl.rcParams['pdf.use14corefonts']=True\n",
    "mpl.rcParams['font.sans-serif'] = ['Helvetica',\n",
    "                                   'DejaVu Sans',\n",
    "                                   'Bitstream Vera Sans',\n",
    "                                   'Computer Modern Sans Serif',\n",
    "                                   'Lucida Grande',\n",
    "                                   'Verdana',\n",
    "                                   'Geneva',\n",
    "                                   'Lucid',\n",
    "                                   'Arial',                                          \n",
    "                                   'Avant Garde',\n",
    "                                   'sans-serif']\n",
    "mpl.rcParams['font.size'] = 11\n"
   ]
  },
  {
   "cell_type": "code",
   "execution_count": 6,
   "metadata": {},
   "outputs": [],
   "source": [
    "label_fontsize = 16 \n",
    "title_fontsize = 18\n",
    "\n",
    "figwidth_size = 5\n",
    "figheigth_size = 5\n"
   ]
  },
  {
   "cell_type": "code",
   "execution_count": 7,
   "metadata": {},
   "outputs": [],
   "source": [
    "#navis display options for frontal view..\n",
    "elev = -180\n",
    "azim = -90\n",
    "dist = 6\n"
   ]
  },
  {
   "cell_type": "code",
   "execution_count": 16,
   "metadata": {},
   "outputs": [
    {
     "name": "stdout",
     "output_type": "stream",
     "text": [
      "navis version : 1.5.0\n",
      "fafbseg version : 3.0.0\n",
      "flybrains version : 0.2.9\n",
      "pyroglancer version : 0.0.5\n"
     ]
    }
   ],
   "source": [
    "print('navis version :',navis.__version__)\n",
    "print('fafbseg version :',fafbseg.__version__)\n",
    "print('flybrains version :',flybrains.__version__)\n",
    "print('pyroglancer version :',pyroglancer.__version__)\n"
   ]
  },
  {
   "cell_type": "markdown",
   "metadata": {},
   "source": [
    "### Fetch data from Neuprint"
   ]
  },
  {
   "cell_type": "code",
   "execution_count": 23,
   "metadata": {},
   "outputs": [
    {
     "data": {
      "text/plain": [
       "Client(\"https://neuprint.janelia.org\", \"hemibrain:v1.2.1\")"
      ]
     },
     "execution_count": 23,
     "metadata": {},
     "output_type": "execute_result"
    }
   ],
   "source": [
    "## using dotenv to import Janelia PAT\n",
    "from dotenv import load_dotenv\n",
    "import os\n",
    "load_dotenv()\n",
    "\n",
    "## fetching Janelia client\n",
    "client = neu.Client('https://neuprint.janelia.org/', dataset='hemibrain:v1.2.1', token=os.environ.get(\"JANELIA_PAT\"))\n",
    "client"
   ]
  },
  {
   "cell_type": "markdown",
   "metadata": {},
   "source": [
    "### Get PAM neurons from hemibrain"
   ]
  },
  {
   "cell_type": "code",
   "execution_count": 30,
   "metadata": {},
   "outputs": [],
   "source": [
    "## fetch all neurons containing \"PAM\" from hemibrain dataset\n",
    "pamneurons_df, roi_counts_df = neu.fetch_neurons(NC(status='Traced',type=\"^PAM.*\",regex=True)) "
   ]
  },
  {
   "cell_type": "code",
   "execution_count": 34,
   "metadata": {},
   "outputs": [
    {
     "data": {
      "text/plain": [
       "array(['PAM09', 'PAM10', 'PAM04_a', 'PAM04_b', 'PAM01_b', 'PAM11',\n",
       "       'PAM01_a', 'PAM05', 'PAM08_c', 'PAM08_e', 'PAM02', 'PAM06_b',\n",
       "       'PAM14', 'PAM13', 'PAM06_a', 'PAM08_b', 'PAM12', 'PAM03',\n",
       "       'PAM08_a', 'PAM07', 'PAM08_d', 'PAM15_a', 'PAM15_b'], dtype=object)"
      ]
     },
     "execution_count": 34,
     "metadata": {},
     "output_type": "execute_result"
    }
   ],
   "source": [
    "pamneurons_df.type.unique()"
   ]
  }
 ],
 "metadata": {
  "kernelspec": {
   "display_name": "DANModulation",
   "language": "python",
   "name": "python3"
  },
  "language_info": {
   "codemirror_mode": {
    "name": "ipython",
    "version": 3
   },
   "file_extension": ".py",
   "mimetype": "text/x-python",
   "name": "python",
   "nbconvert_exporter": "python",
   "pygments_lexer": "ipython3",
   "version": "3.11.7"
  }
 },
 "nbformat": 4,
 "nbformat_minor": 2
}
