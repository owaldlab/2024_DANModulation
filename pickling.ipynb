{
 "cells": [
  {
   "cell_type": "markdown",
   "metadata": {},
   "source": [
    "# pickling.ipynb\n",
    "This notebook was created as a central point to handle pickling of commonly accessed connection data frames. With the PAM analyses becoming larger and larger, with more and more neurons and connections fetched during each run, caching became necessary. Loading commands were copy-pasted into this Jupyter notebook to ensure consistency. "
   ]
  },
  {
   "cell_type": "code",
   "execution_count": null,
   "metadata": {},
   "outputs": [],
   "source": [
    "import navis.interfaces.neuprint\n",
    "from navis.interfaces.neuprint import fetch_adjacencies, fetch_synapse_connections\n",
    "from navis.interfaces.neuprint import NeuronCriteria as NC, SynapseCriteria as SC\n",
    "\n",
    "from dotenv import load_dotenv\n",
    "import os\n",
    "from utils import loadConnections\n",
    "import pickle"
   ]
  },
  {
   "cell_type": "code",
   "execution_count": null,
   "metadata": {},
   "outputs": [],
   "source": [
    "load_dotenv()\n",
    "\n",
    "## fetching Janelia client\n",
    "client = navis.interfaces.neuprint.Client('https://neuprint.janelia.org/', dataset='hemibrain:v1.2.1', token=os.environ.get(\"JANELIA_PAT\"))"
   ]
  },
  {
   "cell_type": "code",
   "execution_count": null,
   "metadata": {},
   "outputs": [],
   "source": [
    "### get PAM-PAM connections\n",
    "filteredConnections = loadConnections(silent=False,cached=False)\n",
    "### retrieving all connections between PAM and non-PAM neurons\n",
    "filteredPAMConnections = loadConnections(\"^PAM.*\",\"^.*\",bidirectional=True,cached=False)"
   ]
  },
  {
   "cell_type": "code",
   "execution_count": null,
   "metadata": {},
   "outputs": [],
   "source": [
    "# RETRIEVE ALL PAM-PAM SYNAPSES\n",
    "\n",
    "## get PAM neurons \n",
    "neuron_criteria = NC(status='Traced', type=\"^PAM.*\",regex=True)\n",
    "\n",
    "## get all synapses, within and outside MB\n",
    "allPAMPAMpresynapses_criteria = SC(type='pre', primary_only=True)\n",
    "allPAMPAMpostsynapses_criteria = SC(type='post', primary_only=True)\n",
    "allPAMPAMpresynapses = fetch_synapse_connections(neuron_criteria, neuron_criteria, allPAMPAMpresynapses_criteria,batch_size=10000)\n",
    "allPAMPAMpostsynapses = fetch_synapse_connections(neuron_criteria, neuron_criteria, allPAMPAMpostsynapses_criteria,batch_size=10000)"
   ]
  },
  {
   "cell_type": "code",
   "execution_count": null,
   "metadata": {},
   "outputs": [],
   "source": [
    "neuron_criteria = NC(status='Traced', type=\"^PAM.*\",regex=True)\n",
    "## get synapses within MB\n",
    "MB_rois=[\"a'L(R)\",\"aL(R)\",\"b'L(R)\",\"bL(R)\",\"gL(R)\",\"CA(L)\",\"a'L(L)\",\"aL(L)\",\"b'L(L)\",\"bL(L)\",\"gL(L)\", \"CA(R)\", \"PED(R)\"]\n",
    "MBpresynapses_criteria = SC(type='pre', primary_only=True,rois=MB_rois)\n",
    "MBpostsynapses_criteria = SC(type='post', primary_only=True,rois=MB_rois)\n",
    "MB_PAM_PAM_presynapses = fetch_synapse_connections(neuron_criteria, neuron_criteria, MBpresynapses_criteria)\n",
    "MB_PAM_PAM_postsynapses = fetch_synapse_connections(neuron_criteria, neuron_criteria, MBpostsynapses_criteria)"
   ]
  },
  {
   "cell_type": "code",
   "execution_count": null,
   "metadata": {},
   "outputs": [],
   "source": [
    "## get synapses outside MB\n",
    "### previously, these ROIs have been found to be the ROIs outside the MB that have PAM-PAM connections\n",
    "non_MB_rois=[\"CRE(L)\", \"CRE(R)\", \"EB\", \"LAL(R)\", \"SIP(L)\", \"SIP(R)\", \"SLP(R)\", \"SMP(L)\", \"SMP(R)\", \"LAL(L)\"]\n",
    "nonMBpresynapses_criteria = SC(type='pre', primary_only=True,rois=non_MB_rois)\n",
    "nonMBpostsynapses_criteria = SC(type='post', primary_only=True,rois=non_MB_rois)\n",
    "nonMB_PAM_PAM_presynapses = fetch_synapse_connections(neuron_criteria, neuron_criteria, nonMBpresynapses_criteria)\n",
    "nonMB_PAM_PAM_postsynapses = fetch_synapse_connections(neuron_criteria, neuron_criteria, nonMBpostsynapses_criteria)"
   ]
  },
  {
   "cell_type": "code",
   "execution_count": null,
   "metadata": {},
   "outputs": [],
   "source": [
    "all_neurons, roi_count = neu.fetch_neurons(NC(status='Traced',type=\"^.*\",regex=True)) "
   ]
  },
  {
   "cell_type": "code",
   "execution_count": null,
   "metadata": {},
   "outputs": [],
   "source": [
    "## fetch all synapses that involve PAM,\n",
    "## postsynapses are 1:1 identical to presynapses, both have n=150049 \n",
    "pam_criteria = NC(status='Traced', type=\"^PAM.*\",regex=True)\n",
    "all_criteria = NC(status='Traced', type=\"^.*\",regex=True)\n",
    "\n",
    "allPAMpresynapses_criteria = SC(type='pre', primary_only=True)\n",
    "allPAMpostsynapses_criteria = SC(type='post', primary_only=True)\n",
    "all_PAM_All_presynapses = fetch_synapse_connections(pam_criteria, all_criteria, allPAMpresynapses_criteria,batch_size=10000)\n"
   ]
  },
  {
   "cell_type": "code",
   "execution_count": null,
   "metadata": {},
   "outputs": [],
   "source": [
    "all_PAM_All_postsynapses = fetch_synapse_connections(all_criteria, pam_criteria, allPAMpostsynapses_criteria,batch_size=10000)\n"
   ]
  },
  {
   "cell_type": "code",
   "execution_count": null,
   "metadata": {},
   "outputs": [],
   "source": [
    "rel_path=\"pickles/\""
   ]
  },
  {
   "cell_type": "code",
   "execution_count": null,
   "metadata": {},
   "outputs": [],
   "source": [
    "with open(rel_path+'PAM_PAM_Connections.pkl', 'wb') as file:\n",
    "    pickle.dump(filteredConnections, file)\n",
    "\n",
    "with open(rel_path+'PAM_All_Connections.pkl', 'wb') as file:\n",
    "    pickle.dump(filteredPAMConnections, file)"
   ]
  },
  {
   "cell_type": "code",
   "execution_count": null,
   "metadata": {},
   "outputs": [],
   "source": [
    "with open(rel_path+'all_PAM_PAM_presynapses.pkl', 'wb') as file:\n",
    "    pickle.dump(allPAMPAMpresynapses, file)\n",
    "with open(rel_path+'all_PAM_PAM_postsynapses.pkl', 'wb') as file:\n",
    "    pickle.dump(allPAMPAMpostsynapses, file)\n",
    "\n",
    "with open(rel_path+'MB_PAM_PAM_presynapses.pkl', 'wb') as file:\n",
    "    pickle.dump(MB_PAM_PAM_presynapses, file)\n",
    "with open(rel_path+'MB_PAM_PAM_postsynapses.pkl', 'wb') as file:\n",
    "    pickle.dump(MB_PAM_PAM_postsynapses, file)\n",
    "\n",
    "with open(rel_path+'nonMB_PAM_PAM_presynapses.pkl', 'wb') as file:\n",
    "    pickle.dump(nonMB_PAM_PAM_presynapses, file)\n",
    "with open(rel_path+'nonMB_PAM_PAM_postsynapses.pkl', 'wb') as file:\n",
    "    pickle.dump(nonMB_PAM_PAM_postsynapses, file)\n",
    "\n",
    "with open(rel_path+'all_neurons.pkl', 'wb') as file:\n",
    "    pickle.dump(all_neurons, file)\n",
    "\n",
    "with open(rel_path+'all_PAM_All_presynapses.pkl', 'wb') as file:\n",
    "    pickle.dump(all_PAM_All_presynapses, file)\n"
   ]
  },
  {
   "cell_type": "code",
   "execution_count": null,
   "metadata": {},
   "outputs": [],
   "source": [
    "with open(rel_path+'all_PAM_All_postsynapses.pkl', 'wb') as file:\n",
    "    pickle.dump(all_PAM_All_postsynapses, file)"
   ]
  },
  {
   "cell_type": "markdown",
   "metadata": {},
   "source": [
    "Pickling Outlines"
   ]
  },
  {
   "cell_type": "code",
   "execution_count": null,
   "metadata": {},
   "outputs": [],
   "source": [
    "from utils import getAnatomicalOutlines\n",
    "MB_outlines_xz = getAnatomicalOutlines(\"MB\")\n",
    "MB_outlines_xy = getAnatomicalOutlines(\"MB\",'xy')\n",
    "\n",
    "## fetch alpha lobe\n",
    "aL_outlines_xz = getAnatomicalOutlines(\"aL\")\n",
    "aL_outlines_xy = getAnatomicalOutlines(\"aL\",'xy')"
   ]
  },
  {
   "cell_type": "code",
   "execution_count": null,
   "metadata": {},
   "outputs": [],
   "source": [
    "with open(rel_path+'MB_outlines_xz.pkl', 'wb') as file:\n",
    "    pickle.dump(MB_outlines_xz, file)\n",
    "with open(rel_path+'MB_outlines_xy.pkl', 'wb') as file:\n",
    "    pickle.dump(MB_outlines_xy, file)\n",
    "\n",
    "with open(rel_path+'aL_outlines_xz.pkl', 'wb') as file:\n",
    "    pickle.dump(aL_outlines_xz, file)\n",
    "with open(rel_path+'aL_outlines_xy.pkl', 'wb') as file:\n",
    "    pickle.dump(aL_outlines_xy, file)\n"
   ]
  }
 ],
 "metadata": {
  "kernelspec": {
   "display_name": "DANModulation",
   "language": "python",
   "name": "python3"
  },
  "language_info": {
   "codemirror_mode": {
    "name": "ipython",
    "version": 3
   },
   "file_extension": ".py",
   "mimetype": "text/x-python",
   "name": "python",
   "nbconvert_exporter": "python",
   "pygments_lexer": "ipython3",
   "version": "3.11.9"
  }
 },
 "nbformat": 4,
 "nbformat_minor": 2
}
